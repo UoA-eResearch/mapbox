{
 "cells": [
  {
   "cell_type": "code",
   "execution_count": 1,
   "metadata": {},
   "outputs": [
    {
     "name": "stderr",
     "output_type": "stream",
     "text": [
      "/usr/local/lib/python3.8/dist-packages/requests/__init__.py:89: RequestsDependencyWarning: urllib3 (1.26.9) or chardet (3.0.4) doesn't match a supported version!\n",
      "  warnings.warn(\"urllib3 ({}) or chardet ({}) doesn't match a supported \"\n"
     ]
    }
   ],
   "source": [
    "import requests\n",
    "import requests_cache\n",
    "requests_cache.install_cache('cache')\n",
    "import pandas as pd\n",
    "import geopandas as gpd\n",
    "from tqdm.auto import tqdm\n",
    "import json\n",
    "from pprint import pprint\n",
    "API_KEY = 'pk.eyJ1IjoibnlvdTA0NSIsImEiOiJjaXJ6bDYxeWcwMXRzMnlwa2tmbzduNmd0In0.gLrTUpqhS3PYYy_AtCp4Gw'\n",
    "BASE_URL = f\"https://api.mapbox.com/search/searchbox/v1/category/services?access_token={API_KEY}&language=en&limit=25\""
   ]
  },
  {
   "cell_type": "code",
   "execution_count": 2,
   "metadata": {},
   "outputs": [
    {
     "data": {
      "text/html": [
       "<div>\n",
       "<style scoped>\n",
       "    .dataframe tbody tr th:only-of-type {\n",
       "        vertical-align: middle;\n",
       "    }\n",
       "\n",
       "    .dataframe tbody tr th {\n",
       "        vertical-align: top;\n",
       "    }\n",
       "\n",
       "    .dataframe thead th {\n",
       "        text-align: right;\n",
       "    }\n",
       "</style>\n",
       "<table border=\"1\" class=\"dataframe\">\n",
       "  <thead>\n",
       "    <tr style=\"text-align: right;\">\n",
       "      <th></th>\n",
       "      <th>MB2023_V1_00</th>\n",
       "      <th>LANDWATER</th>\n",
       "      <th>LANDWATER_NAME</th>\n",
       "      <th>LAND_AREA_SQ_KM</th>\n",
       "      <th>AREA_SQ_KM</th>\n",
       "      <th>Shape_Length</th>\n",
       "      <th>geometry</th>\n",
       "    </tr>\n",
       "  </thead>\n",
       "  <tbody>\n",
       "    <tr>\n",
       "      <th>0</th>\n",
       "      <td>0000100</td>\n",
       "      <td>12</td>\n",
       "      <td>Mainland</td>\n",
       "      <td>157.497825</td>\n",
       "      <td>157.497825</td>\n",
       "      <td>84526.158926</td>\n",
       "      <td>MULTIPOLYGON (((172.67990 -34.42180, 172.67991...</td>\n",
       "    </tr>\n",
       "    <tr>\n",
       "      <th>1</th>\n",
       "      <td>0000200</td>\n",
       "      <td>12</td>\n",
       "      <td>Mainland</td>\n",
       "      <td>120.503770</td>\n",
       "      <td>120.503770</td>\n",
       "      <td>122885.186789</td>\n",
       "      <td>MULTIPOLYGON (((173.01433 -34.39285, 173.01461...</td>\n",
       "    </tr>\n",
       "    <tr>\n",
       "      <th>2</th>\n",
       "      <td>0000300</td>\n",
       "      <td>12</td>\n",
       "      <td>Mainland</td>\n",
       "      <td>7.481859</td>\n",
       "      <td>7.481859</td>\n",
       "      <td>28321.227739</td>\n",
       "      <td>MULTIPOLYGON (((172.87839 -34.49475, 172.88016...</td>\n",
       "    </tr>\n",
       "    <tr>\n",
       "      <th>3</th>\n",
       "      <td>0000400</td>\n",
       "      <td>12</td>\n",
       "      <td>Mainland</td>\n",
       "      <td>83.342952</td>\n",
       "      <td>83.342952</td>\n",
       "      <td>41499.302475</td>\n",
       "      <td>MULTIPOLYGON (((172.80881 -34.50158, 172.81036...</td>\n",
       "    </tr>\n",
       "    <tr>\n",
       "      <th>4</th>\n",
       "      <td>0001201</td>\n",
       "      <td>12</td>\n",
       "      <td>Mainland</td>\n",
       "      <td>51.238250</td>\n",
       "      <td>51.238250</td>\n",
       "      <td>62944.884996</td>\n",
       "      <td>MULTIPOLYGON (((173.06066 -34.70403, 173.06077...</td>\n",
       "    </tr>\n",
       "    <tr>\n",
       "      <th>...</th>\n",
       "      <td>...</td>\n",
       "      <td>...</td>\n",
       "      <td>...</td>\n",
       "      <td>...</td>\n",
       "      <td>...</td>\n",
       "      <td>...</td>\n",
       "      <td>...</td>\n",
       "    </tr>\n",
       "    <tr>\n",
       "      <th>56783</th>\n",
       "      <td>4019154</td>\n",
       "      <td>12</td>\n",
       "      <td>Mainland</td>\n",
       "      <td>0.036001</td>\n",
       "      <td>0.036001</td>\n",
       "      <td>1105.893029</td>\n",
       "      <td>MULTIPOLYGON (((174.80358 -41.25055, 174.80370...</td>\n",
       "    </tr>\n",
       "    <tr>\n",
       "      <th>56784</th>\n",
       "      <td>4019155</td>\n",
       "      <td>12</td>\n",
       "      <td>Mainland</td>\n",
       "      <td>0.019734</td>\n",
       "      <td>0.019734</td>\n",
       "      <td>661.167326</td>\n",
       "      <td>MULTIPOLYGON (((174.80411 -41.25295, 174.80383...</td>\n",
       "    </tr>\n",
       "    <tr>\n",
       "      <th>56785</th>\n",
       "      <td>4019156</td>\n",
       "      <td>12</td>\n",
       "      <td>Mainland</td>\n",
       "      <td>0.097215</td>\n",
       "      <td>0.097215</td>\n",
       "      <td>1787.390321</td>\n",
       "      <td>MULTIPOLYGON (((174.79657 -41.25581, 174.79724...</td>\n",
       "    </tr>\n",
       "    <tr>\n",
       "      <th>56786</th>\n",
       "      <td>4019157</td>\n",
       "      <td>12</td>\n",
       "      <td>Mainland</td>\n",
       "      <td>0.066195</td>\n",
       "      <td>0.066195</td>\n",
       "      <td>1083.336705</td>\n",
       "      <td>MULTIPOLYGON (((174.78952 -41.26050, 174.79035...</td>\n",
       "    </tr>\n",
       "    <tr>\n",
       "      <th>56787</th>\n",
       "      <td>4010332</td>\n",
       "      <td>12</td>\n",
       "      <td>Mainland</td>\n",
       "      <td>39.690290</td>\n",
       "      <td>39.690290</td>\n",
       "      <td>37881.692754</td>\n",
       "      <td>MULTIPOLYGON (((175.24405 -40.28125, 175.24473...</td>\n",
       "    </tr>\n",
       "  </tbody>\n",
       "</table>\n",
       "<p>56788 rows × 7 columns</p>\n",
       "</div>"
      ],
      "text/plain": [
       "      MB2023_V1_00 LANDWATER LANDWATER_NAME  LAND_AREA_SQ_KM  AREA_SQ_KM  \\\n",
       "0          0000100        12       Mainland       157.497825  157.497825   \n",
       "1          0000200        12       Mainland       120.503770  120.503770   \n",
       "2          0000300        12       Mainland         7.481859    7.481859   \n",
       "3          0000400        12       Mainland        83.342952   83.342952   \n",
       "4          0001201        12       Mainland        51.238250   51.238250   \n",
       "...            ...       ...            ...              ...         ...   \n",
       "56783      4019154        12       Mainland         0.036001    0.036001   \n",
       "56784      4019155        12       Mainland         0.019734    0.019734   \n",
       "56785      4019156        12       Mainland         0.097215    0.097215   \n",
       "56786      4019157        12       Mainland         0.066195    0.066195   \n",
       "56787      4010332        12       Mainland        39.690290   39.690290   \n",
       "\n",
       "        Shape_Length                                           geometry  \n",
       "0       84526.158926  MULTIPOLYGON (((172.67990 -34.42180, 172.67991...  \n",
       "1      122885.186789  MULTIPOLYGON (((173.01433 -34.39285, 173.01461...  \n",
       "2       28321.227739  MULTIPOLYGON (((172.87839 -34.49475, 172.88016...  \n",
       "3       41499.302475  MULTIPOLYGON (((172.80881 -34.50158, 172.81036...  \n",
       "4       62944.884996  MULTIPOLYGON (((173.06066 -34.70403, 173.06077...  \n",
       "...              ...                                                ...  \n",
       "56783    1105.893029  MULTIPOLYGON (((174.80358 -41.25055, 174.80370...  \n",
       "56784     661.167326  MULTIPOLYGON (((174.80411 -41.25295, 174.80383...  \n",
       "56785    1787.390321  MULTIPOLYGON (((174.79657 -41.25581, 174.79724...  \n",
       "56786    1083.336705  MULTIPOLYGON (((174.78952 -41.26050, 174.79035...  \n",
       "56787   37881.692754  MULTIPOLYGON (((175.24405 -40.28125, 175.24473...  \n",
       "\n",
       "[56788 rows x 7 columns]"
      ]
     },
     "execution_count": 2,
     "metadata": {},
     "output_type": "execute_result"
    }
   ],
   "source": [
    "mb = gpd.read_file(\"statsnz-meshblock-2023-clipped-generalised-GPKG.zip!meshblock-2023-clipped-generalised.gpkg\")\n",
    "mb"
   ]
  },
  {
   "cell_type": "code",
   "execution_count": 3,
   "metadata": {},
   "outputs": [],
   "source": [
    "mb[\"retrieved_at\"] = pd.NA\n",
    "mb[\"n_POIs\"] = pd.NA\n",
    "mb[\"bounds\"] = mb.bounds.apply(lambda b: f\"{b.minx},{b.miny},{b.maxx},{b.maxy}\", axis=1)\n",
    "mb.drop(columns=\"geometry\").to_csv(\"locations.csv\", index=False)"
   ]
  },
  {
   "cell_type": "code",
   "execution_count": 4,
   "metadata": {},
   "outputs": [
    {
     "data": {
      "application/vnd.jupyter.widget-view+json": {
       "model_id": "ecee25ea7e00461b8dc0bbf77a44e68b",
       "version_major": 2,
       "version_minor": 0
      },
      "text/plain": [
       "  0%|          | 0/56788 [00:00<?, ?it/s]"
      ]
     },
     "metadata": {},
     "output_type": "display_data"
    },
    {
     "name": "stderr",
     "output_type": "stream",
     "text": [
      "/tmp/ipykernel_2599100/1955391933.py:10: SettingWithCopyWarning: \n",
      "A value is trying to be set on a copy of a slice from a DataFrame\n",
      "\n",
      "See the caveats in the documentation: https://pandas.pydata.org/pandas-docs/stable/user_guide/indexing.html#returning-a-view-versus-a-copy\n",
      "  mb.retrieved_at[i] = pd.Timestamp.now()\n",
      "/tmp/ipykernel_2599100/1955391933.py:11: SettingWithCopyWarning: \n",
      "A value is trying to be set on a copy of a slice from a DataFrame\n",
      "\n",
      "See the caveats in the documentation: https://pandas.pydata.org/pandas-docs/stable/user_guide/indexing.html#returning-a-view-versus-a-copy\n",
      "  mb.n_POIs[i] = len(geojson[\"features\"])\n"
     ]
    }
   ],
   "source": [
    "results = {}\n",
    "for i, bounds in tqdm(mb[\"bounds\"].items(), total=len(mb)):\n",
    "    try:\n",
    "        geojson = requests.get(BASE_URL, params={\"bbox\": bounds}).json()\n",
    "    except Exception as e:\n",
    "        print(e)\n",
    "        break\n",
    "    for feature in geojson[\"features\"]:\n",
    "        results[feature[\"properties\"][\"mapbox_id\"]] = feature\n",
    "    mb.retrieved_at[i] = pd.Timestamp.now()\n",
    "    mb.n_POIs[i] = len(geojson[\"features\"])\n",
    "    if i % 1000 == 0 or i == mb.index.max():\n",
    "        mb.to_csv(\"locations.csv\", index=False)\n",
    "        geojson = {\"type\": \"FeatureCollection\", \"features\": list(results.values())}\n",
    "        with open(\"data.geojson\", \"w\") as f:\n",
    "            json.dump(geojson, f)\n",
    "mb"
   ]
  },
  {
   "cell_type": "code",
   "execution_count": null,
   "metadata": {},
   "outputs": [
    {
     "data": {
      "text/plain": [
       "(foursquare, safegraph)    3\n",
       "(foursquare)               2\n",
       "dtype: int64"
      ]
     },
     "execution_count": 23,
     "metadata": {},
     "output_type": "execute_result"
    }
   ],
   "source": [
    "pd.Series([r[\"properties\"][\"external_ids\"].keys() for r in results.values()]).value_counts()"
   ]
  }
 ],
 "metadata": {
  "kernelspec": {
   "display_name": "Python 3",
   "language": "python",
   "name": "python3"
  },
  "language_info": {
   "codemirror_mode": {
    "name": "ipython",
    "version": 3
   },
   "file_extension": ".py",
   "mimetype": "text/x-python",
   "name": "python",
   "nbconvert_exporter": "python",
   "pygments_lexer": "ipython3",
   "version": "3.8.10"
  },
  "orig_nbformat": 4
 },
 "nbformat": 4,
 "nbformat_minor": 2
}
